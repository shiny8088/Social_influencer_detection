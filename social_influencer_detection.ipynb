{
 "cells": [
  {
   "cell_type": "code",
   "execution_count": 61,
   "id": "bb87e4e4-5549-4f69-87e9-5d01eb07a1b1",
   "metadata": {},
   "outputs": [],
   "source": [
    "#scraping the comments from a single post of an account.\n",
    "import pandas as pd"
   ]
  },
  {
   "cell_type": "code",
   "execution_count": 84,
   "id": "851497f8-72ee-4f5c-92cb-eca6e18d52c6",
   "metadata": {},
   "outputs": [
    {
     "ename": "FileNotFoundError",
     "evalue": "File influencer_comments.json does not exist",
     "output_type": "error",
     "traceback": [
      "\u001b[31m---------------------------------------------------------------------------\u001b[39m",
      "\u001b[31mFileNotFoundError\u001b[39m                         Traceback (most recent call last)",
      "\u001b[36mCell\u001b[39m\u001b[36m \u001b[39m\u001b[32mIn[84]\u001b[39m\u001b[32m, line 1\u001b[39m\n\u001b[32m----> \u001b[39m\u001b[32m1\u001b[39m df = \u001b[43mpd\u001b[49m\u001b[43m.\u001b[49m\u001b[43mread_json\u001b[49m\u001b[43m(\u001b[49m\u001b[33;43m'\u001b[39;49m\u001b[33;43minfluencer_comments.json\u001b[39;49m\u001b[33;43m'\u001b[39;49m\u001b[43m)\u001b[49m\n",
      "\u001b[36mFile \u001b[39m\u001b[32m/Library/Frameworks/Python.framework/Versions/3.13/lib/python3.13/site-packages/pandas/io/json/_json.py:791\u001b[39m, in \u001b[36mread_json\u001b[39m\u001b[34m(path_or_buf, orient, typ, dtype, convert_axes, convert_dates, keep_default_dates, precise_float, date_unit, encoding, encoding_errors, lines, chunksize, compression, nrows, storage_options, dtype_backend, engine)\u001b[39m\n\u001b[32m    788\u001b[39m \u001b[38;5;28;01mif\u001b[39;00m convert_axes \u001b[38;5;129;01mis\u001b[39;00m \u001b[38;5;28;01mNone\u001b[39;00m \u001b[38;5;129;01mand\u001b[39;00m orient != \u001b[33m\"\u001b[39m\u001b[33mtable\u001b[39m\u001b[33m\"\u001b[39m:\n\u001b[32m    789\u001b[39m     convert_axes = \u001b[38;5;28;01mTrue\u001b[39;00m\n\u001b[32m--> \u001b[39m\u001b[32m791\u001b[39m json_reader = \u001b[43mJsonReader\u001b[49m\u001b[43m(\u001b[49m\n\u001b[32m    792\u001b[39m \u001b[43m    \u001b[49m\u001b[43mpath_or_buf\u001b[49m\u001b[43m,\u001b[49m\n\u001b[32m    793\u001b[39m \u001b[43m    \u001b[49m\u001b[43morient\u001b[49m\u001b[43m=\u001b[49m\u001b[43morient\u001b[49m\u001b[43m,\u001b[49m\n\u001b[32m    794\u001b[39m \u001b[43m    \u001b[49m\u001b[43mtyp\u001b[49m\u001b[43m=\u001b[49m\u001b[43mtyp\u001b[49m\u001b[43m,\u001b[49m\n\u001b[32m    795\u001b[39m \u001b[43m    \u001b[49m\u001b[43mdtype\u001b[49m\u001b[43m=\u001b[49m\u001b[43mdtype\u001b[49m\u001b[43m,\u001b[49m\n\u001b[32m    796\u001b[39m \u001b[43m    \u001b[49m\u001b[43mconvert_axes\u001b[49m\u001b[43m=\u001b[49m\u001b[43mconvert_axes\u001b[49m\u001b[43m,\u001b[49m\n\u001b[32m    797\u001b[39m \u001b[43m    \u001b[49m\u001b[43mconvert_dates\u001b[49m\u001b[43m=\u001b[49m\u001b[43mconvert_dates\u001b[49m\u001b[43m,\u001b[49m\n\u001b[32m    798\u001b[39m \u001b[43m    \u001b[49m\u001b[43mkeep_default_dates\u001b[49m\u001b[43m=\u001b[49m\u001b[43mkeep_default_dates\u001b[49m\u001b[43m,\u001b[49m\n\u001b[32m    799\u001b[39m \u001b[43m    \u001b[49m\u001b[43mprecise_float\u001b[49m\u001b[43m=\u001b[49m\u001b[43mprecise_float\u001b[49m\u001b[43m,\u001b[49m\n\u001b[32m    800\u001b[39m \u001b[43m    \u001b[49m\u001b[43mdate_unit\u001b[49m\u001b[43m=\u001b[49m\u001b[43mdate_unit\u001b[49m\u001b[43m,\u001b[49m\n\u001b[32m    801\u001b[39m \u001b[43m    \u001b[49m\u001b[43mencoding\u001b[49m\u001b[43m=\u001b[49m\u001b[43mencoding\u001b[49m\u001b[43m,\u001b[49m\n\u001b[32m    802\u001b[39m \u001b[43m    \u001b[49m\u001b[43mlines\u001b[49m\u001b[43m=\u001b[49m\u001b[43mlines\u001b[49m\u001b[43m,\u001b[49m\n\u001b[32m    803\u001b[39m \u001b[43m    \u001b[49m\u001b[43mchunksize\u001b[49m\u001b[43m=\u001b[49m\u001b[43mchunksize\u001b[49m\u001b[43m,\u001b[49m\n\u001b[32m    804\u001b[39m \u001b[43m    \u001b[49m\u001b[43mcompression\u001b[49m\u001b[43m=\u001b[49m\u001b[43mcompression\u001b[49m\u001b[43m,\u001b[49m\n\u001b[32m    805\u001b[39m \u001b[43m    \u001b[49m\u001b[43mnrows\u001b[49m\u001b[43m=\u001b[49m\u001b[43mnrows\u001b[49m\u001b[43m,\u001b[49m\n\u001b[32m    806\u001b[39m \u001b[43m    \u001b[49m\u001b[43mstorage_options\u001b[49m\u001b[43m=\u001b[49m\u001b[43mstorage_options\u001b[49m\u001b[43m,\u001b[49m\n\u001b[32m    807\u001b[39m \u001b[43m    \u001b[49m\u001b[43mencoding_errors\u001b[49m\u001b[43m=\u001b[49m\u001b[43mencoding_errors\u001b[49m\u001b[43m,\u001b[49m\n\u001b[32m    808\u001b[39m \u001b[43m    \u001b[49m\u001b[43mdtype_backend\u001b[49m\u001b[43m=\u001b[49m\u001b[43mdtype_backend\u001b[49m\u001b[43m,\u001b[49m\n\u001b[32m    809\u001b[39m \u001b[43m    \u001b[49m\u001b[43mengine\u001b[49m\u001b[43m=\u001b[49m\u001b[43mengine\u001b[49m\u001b[43m,\u001b[49m\n\u001b[32m    810\u001b[39m \u001b[43m\u001b[49m\u001b[43m)\u001b[49m\n\u001b[32m    812\u001b[39m \u001b[38;5;28;01mif\u001b[39;00m chunksize:\n\u001b[32m    813\u001b[39m     \u001b[38;5;28;01mreturn\u001b[39;00m json_reader\n",
      "\u001b[36mFile \u001b[39m\u001b[32m/Library/Frameworks/Python.framework/Versions/3.13/lib/python3.13/site-packages/pandas/io/json/_json.py:904\u001b[39m, in \u001b[36mJsonReader.__init__\u001b[39m\u001b[34m(self, filepath_or_buffer, orient, typ, dtype, convert_axes, convert_dates, keep_default_dates, precise_float, date_unit, encoding, lines, chunksize, compression, nrows, storage_options, encoding_errors, dtype_backend, engine)\u001b[39m\n\u001b[32m    902\u001b[39m     \u001b[38;5;28mself\u001b[39m.data = filepath_or_buffer\n\u001b[32m    903\u001b[39m \u001b[38;5;28;01melif\u001b[39;00m \u001b[38;5;28mself\u001b[39m.engine == \u001b[33m\"\u001b[39m\u001b[33mujson\u001b[39m\u001b[33m\"\u001b[39m:\n\u001b[32m--> \u001b[39m\u001b[32m904\u001b[39m     data = \u001b[38;5;28;43mself\u001b[39;49m\u001b[43m.\u001b[49m\u001b[43m_get_data_from_filepath\u001b[49m\u001b[43m(\u001b[49m\u001b[43mfilepath_or_buffer\u001b[49m\u001b[43m)\u001b[49m\n\u001b[32m    905\u001b[39m     \u001b[38;5;28mself\u001b[39m.data = \u001b[38;5;28mself\u001b[39m._preprocess_data(data)\n",
      "\u001b[36mFile \u001b[39m\u001b[32m/Library/Frameworks/Python.framework/Versions/3.13/lib/python3.13/site-packages/pandas/io/json/_json.py:960\u001b[39m, in \u001b[36mJsonReader._get_data_from_filepath\u001b[39m\u001b[34m(self, filepath_or_buffer)\u001b[39m\n\u001b[32m    952\u001b[39m     filepath_or_buffer = \u001b[38;5;28mself\u001b[39m.handles.handle\n\u001b[32m    953\u001b[39m \u001b[38;5;28;01melif\u001b[39;00m (\n\u001b[32m    954\u001b[39m     \u001b[38;5;28misinstance\u001b[39m(filepath_or_buffer, \u001b[38;5;28mstr\u001b[39m)\n\u001b[32m    955\u001b[39m     \u001b[38;5;129;01mand\u001b[39;00m filepath_or_buffer.lower().endswith(\n\u001b[32m   (...)\u001b[39m\u001b[32m    958\u001b[39m     \u001b[38;5;129;01mand\u001b[39;00m \u001b[38;5;129;01mnot\u001b[39;00m file_exists(filepath_or_buffer)\n\u001b[32m    959\u001b[39m ):\n\u001b[32m--> \u001b[39m\u001b[32m960\u001b[39m     \u001b[38;5;28;01mraise\u001b[39;00m \u001b[38;5;167;01mFileNotFoundError\u001b[39;00m(\u001b[33mf\u001b[39m\u001b[33m\"\u001b[39m\u001b[33mFile \u001b[39m\u001b[38;5;132;01m{\u001b[39;00mfilepath_or_buffer\u001b[38;5;132;01m}\u001b[39;00m\u001b[33m does not exist\u001b[39m\u001b[33m\"\u001b[39m)\n\u001b[32m    961\u001b[39m \u001b[38;5;28;01melse\u001b[39;00m:\n\u001b[32m    962\u001b[39m     warnings.warn(\n\u001b[32m    963\u001b[39m         \u001b[33m\"\u001b[39m\u001b[33mPassing literal json to \u001b[39m\u001b[33m'\u001b[39m\u001b[33mread_json\u001b[39m\u001b[33m'\u001b[39m\u001b[33m is deprecated and \u001b[39m\u001b[33m\"\u001b[39m\n\u001b[32m    964\u001b[39m         \u001b[33m\"\u001b[39m\u001b[33mwill be removed in a future version. To read from a \u001b[39m\u001b[33m\"\u001b[39m\n\u001b[32m   (...)\u001b[39m\u001b[32m    967\u001b[39m         stacklevel=find_stack_level(),\n\u001b[32m    968\u001b[39m     )\n",
      "\u001b[31mFileNotFoundError\u001b[39m: File influencer_comments.json does not exist"
     ]
    }
   ],
   "source": [
    "df = pd.read_json('influencer_comments.json')"
   ]
  },
  {
   "cell_type": "code",
   "execution_count": 63,
   "id": "4555e033-795f-4579-b7f6-a38b893c5bd3",
   "metadata": {},
   "outputs": [
    {
     "data": {
      "text/html": [
       "<div>\n",
       "<style scoped>\n",
       "    .dataframe tbody tr th:only-of-type {\n",
       "        vertical-align: middle;\n",
       "    }\n",
       "\n",
       "    .dataframe tbody tr th {\n",
       "        vertical-align: top;\n",
       "    }\n",
       "\n",
       "    .dataframe thead th {\n",
       "        text-align: right;\n",
       "    }\n",
       "</style>\n",
       "<table border=\"1\" class=\"dataframe\">\n",
       "  <thead>\n",
       "    <tr style=\"text-align: right;\">\n",
       "      <th></th>\n",
       "      <th>postUrl</th>\n",
       "      <th>commentUrl</th>\n",
       "      <th>id</th>\n",
       "      <th>text</th>\n",
       "      <th>ownerUsername</th>\n",
       "      <th>ownerProfilePicUrl</th>\n",
       "      <th>timestamp</th>\n",
       "      <th>repliesCount</th>\n",
       "      <th>replies</th>\n",
       "      <th>likesCount</th>\n",
       "      <th>owner</th>\n",
       "    </tr>\n",
       "  </thead>\n",
       "  <tbody>\n",
       "    <tr>\n",
       "      <th>0</th>\n",
       "      <td>https://www.instagram.com/p/CUFle5mh1ZG/</td>\n",
       "      <td>https://www.instagram.com/p/CUFle5mh1ZG/c/1816...</td>\n",
       "      <td>18167122669166644</td>\n",
       "      <td>Reply panna matiya</td>\n",
       "      <td>cupid_god_</td>\n",
       "      <td>https://scontent-atl3-1.cdninstagram.com/v/t51...</td>\n",
       "      <td>2021-10-31 12:21:30+00:00</td>\n",
       "      <td>0</td>\n",
       "      <td>[]</td>\n",
       "      <td>0</td>\n",
       "      <td>{'fbid_v2': '17841409155436347', 'full_name': ...</td>\n",
       "    </tr>\n",
       "    <tr>\n",
       "      <th>1</th>\n",
       "      <td>https://www.instagram.com/p/CUFle5mh1ZG/</td>\n",
       "      <td>https://www.instagram.com/p/CUFle5mh1ZG/c/1826...</td>\n",
       "      <td>18261946900035236</td>\n",
       "      <td>Aiii yemla ipde pandringa kiruku mendal payalu...</td>\n",
       "      <td>cupid_god_</td>\n",
       "      <td>https://scontent-atl3-1.cdninstagram.com/v/t51...</td>\n",
       "      <td>2021-10-29 01:22:19+00:00</td>\n",
       "      <td>0</td>\n",
       "      <td>[]</td>\n",
       "      <td>0</td>\n",
       "      <td>{'fbid_v2': '17841409155436347', 'full_name': ...</td>\n",
       "    </tr>\n",
       "    <tr>\n",
       "      <th>2</th>\n",
       "      <td>https://www.instagram.com/p/CUFle5mh1ZG/</td>\n",
       "      <td>https://www.instagram.com/p/CUFle5mh1ZG/c/1790...</td>\n",
       "      <td>17900337695262624</td>\n",
       "      <td>Slaying🔥</td>\n",
       "      <td>abilash_chinnusamy</td>\n",
       "      <td>https://scontent-atl3-3.cdninstagram.com/v/t51...</td>\n",
       "      <td>2021-09-21 15:42:29+00:00</td>\n",
       "      <td>0</td>\n",
       "      <td>[]</td>\n",
       "      <td>0</td>\n",
       "      <td>{'fbid_v2': '17841402317814218', 'full_name': ...</td>\n",
       "    </tr>\n",
       "    <tr>\n",
       "      <th>3</th>\n",
       "      <td>https://www.instagram.com/p/CUFle5mh1ZG/</td>\n",
       "      <td>https://www.instagram.com/p/CUFle5mh1ZG/c/1792...</td>\n",
       "      <td>17927729227780036</td>\n",
       "      <td>🥵🔥</td>\n",
       "      <td>nihalniju</td>\n",
       "      <td>https://scontent-atl3-1.cdninstagram.com/v/t51...</td>\n",
       "      <td>2021-09-21 14:46:56+00:00</td>\n",
       "      <td>0</td>\n",
       "      <td>[]</td>\n",
       "      <td>0</td>\n",
       "      <td>{'fbid_v2': '17841405735460718', 'full_name': ...</td>\n",
       "    </tr>\n",
       "    <tr>\n",
       "      <th>4</th>\n",
       "      <td>https://www.instagram.com/p/CUFle5mh1ZG/</td>\n",
       "      <td>https://www.instagram.com/p/CUFle5mh1ZG/c/1816...</td>\n",
       "      <td>18163310815166752</td>\n",
       "      <td>🔥🔥 you do make me so addicted ❤️❤️</td>\n",
       "      <td>sellllyyyys_aniee</td>\n",
       "      <td>https://scontent-atl3-1.cdninstagram.com/v/t51...</td>\n",
       "      <td>2021-09-21 14:44:50+00:00</td>\n",
       "      <td>3</td>\n",
       "      <td>[]</td>\n",
       "      <td>1</td>\n",
       "      <td>{'fbid_v2': '17841406227793691', 'full_name': ...</td>\n",
       "    </tr>\n",
       "  </tbody>\n",
       "</table>\n",
       "</div>"
      ],
      "text/plain": [
       "                                    postUrl  \\\n",
       "0  https://www.instagram.com/p/CUFle5mh1ZG/   \n",
       "1  https://www.instagram.com/p/CUFle5mh1ZG/   \n",
       "2  https://www.instagram.com/p/CUFle5mh1ZG/   \n",
       "3  https://www.instagram.com/p/CUFle5mh1ZG/   \n",
       "4  https://www.instagram.com/p/CUFle5mh1ZG/   \n",
       "\n",
       "                                          commentUrl                 id  \\\n",
       "0  https://www.instagram.com/p/CUFle5mh1ZG/c/1816...  18167122669166644   \n",
       "1  https://www.instagram.com/p/CUFle5mh1ZG/c/1826...  18261946900035236   \n",
       "2  https://www.instagram.com/p/CUFle5mh1ZG/c/1790...  17900337695262624   \n",
       "3  https://www.instagram.com/p/CUFle5mh1ZG/c/1792...  17927729227780036   \n",
       "4  https://www.instagram.com/p/CUFle5mh1ZG/c/1816...  18163310815166752   \n",
       "\n",
       "                                                text       ownerUsername  \\\n",
       "0                                 Reply panna matiya          cupid_god_   \n",
       "1  Aiii yemla ipde pandringa kiruku mendal payalu...          cupid_god_   \n",
       "2                                           Slaying🔥  abilash_chinnusamy   \n",
       "3                                                 🥵🔥           nihalniju   \n",
       "4                 🔥🔥 you do make me so addicted ❤️❤️   sellllyyyys_aniee   \n",
       "\n",
       "                                  ownerProfilePicUrl  \\\n",
       "0  https://scontent-atl3-1.cdninstagram.com/v/t51...   \n",
       "1  https://scontent-atl3-1.cdninstagram.com/v/t51...   \n",
       "2  https://scontent-atl3-3.cdninstagram.com/v/t51...   \n",
       "3  https://scontent-atl3-1.cdninstagram.com/v/t51...   \n",
       "4  https://scontent-atl3-1.cdninstagram.com/v/t51...   \n",
       "\n",
       "                  timestamp  repliesCount replies  likesCount  \\\n",
       "0 2021-10-31 12:21:30+00:00             0      []           0   \n",
       "1 2021-10-29 01:22:19+00:00             0      []           0   \n",
       "2 2021-09-21 15:42:29+00:00             0      []           0   \n",
       "3 2021-09-21 14:46:56+00:00             0      []           0   \n",
       "4 2021-09-21 14:44:50+00:00             3      []           1   \n",
       "\n",
       "                                               owner  \n",
       "0  {'fbid_v2': '17841409155436347', 'full_name': ...  \n",
       "1  {'fbid_v2': '17841409155436347', 'full_name': ...  \n",
       "2  {'fbid_v2': '17841402317814218', 'full_name': ...  \n",
       "3  {'fbid_v2': '17841405735460718', 'full_name': ...  \n",
       "4  {'fbid_v2': '17841406227793691', 'full_name': ...  "
      ]
     },
     "execution_count": 63,
     "metadata": {},
     "output_type": "execute_result"
    }
   ],
   "source": [
    "df.head()"
   ]
  },
  {
   "cell_type": "code",
   "execution_count": 64,
   "id": "e6da3bfd-2518-47cc-9aef-5e76331b77c7",
   "metadata": {},
   "outputs": [],
   "source": [
    "df.drop(['postUrl', 'commentUrl','id','ownerUsername','ownerProfilePicUrl','timestamp','repliesCount','replies','likesCount','owner'], axis=1, inplace=True)\n"
   ]
  },
  {
   "cell_type": "code",
   "execution_count": 65,
   "id": "5fd5b526-2a7a-4a37-b68e-2cff102e98f9",
   "metadata": {},
   "outputs": [
    {
     "data": {
      "text/html": [
       "<div>\n",
       "<style scoped>\n",
       "    .dataframe tbody tr th:only-of-type {\n",
       "        vertical-align: middle;\n",
       "    }\n",
       "\n",
       "    .dataframe tbody tr th {\n",
       "        vertical-align: top;\n",
       "    }\n",
       "\n",
       "    .dataframe thead th {\n",
       "        text-align: right;\n",
       "    }\n",
       "</style>\n",
       "<table border=\"1\" class=\"dataframe\">\n",
       "  <thead>\n",
       "    <tr style=\"text-align: right;\">\n",
       "      <th></th>\n",
       "      <th>text</th>\n",
       "    </tr>\n",
       "  </thead>\n",
       "  <tbody>\n",
       "    <tr>\n",
       "      <th>0</th>\n",
       "      <td>Reply panna matiya</td>\n",
       "    </tr>\n",
       "    <tr>\n",
       "      <th>1</th>\n",
       "      <td>Aiii yemla ipde pandringa kiruku mendal payalu...</td>\n",
       "    </tr>\n",
       "    <tr>\n",
       "      <th>2</th>\n",
       "      <td>Slaying🔥</td>\n",
       "    </tr>\n",
       "    <tr>\n",
       "      <th>3</th>\n",
       "      <td>🥵🔥</td>\n",
       "    </tr>\n",
       "    <tr>\n",
       "      <th>4</th>\n",
       "      <td>🔥🔥 you do make me so addicted ❤️❤️</td>\n",
       "    </tr>\n",
       "  </tbody>\n",
       "</table>\n",
       "</div>"
      ],
      "text/plain": [
       "                                                text\n",
       "0                                 Reply panna matiya\n",
       "1  Aiii yemla ipde pandringa kiruku mendal payalu...\n",
       "2                                           Slaying🔥\n",
       "3                                                 🥵🔥\n",
       "4                 🔥🔥 you do make me so addicted ❤️❤️"
      ]
     },
     "execution_count": 65,
     "metadata": {},
     "output_type": "execute_result"
    }
   ],
   "source": [
    "df.head()"
   ]
  },
  {
   "cell_type": "code",
   "execution_count": 66,
   "id": "83921757-b928-41b1-9e56-c0ab5f42ca29",
   "metadata": {},
   "outputs": [],
   "source": [
    "#removing emoji's\n",
    "\n",
    "import re"
   ]
  },
  {
   "cell_type": "code",
   "execution_count": 67,
   "id": "e24e9b11-4143-42f8-ab7f-68dd4c992447",
   "metadata": {},
   "outputs": [],
   "source": [
    "def remove_emojis(text):\n",
    "    emoji_pattern = re.compile(\"[\"\n",
    "                           u\"\\U0001F600-\\U0001F64F\"  # Emoticons\n",
    "                           u\"\\U0001F300-\\U0001F5FF\"  # Symbols & Pictographs\n",
    "                           u\"\\U0001F680-\\U0001F6FF\"  # Transport & Map symbols\n",
    "                           u\"\\U0001F1E0-\\U0001F1FF\"  # Flags\n",
    "                           u\"\\U00002700-\\U000027BF\"  # Dingbats\n",
    "                           u\"\\U000024C2-\\U0001F251\"  # Enclosed characters\n",
    "                           \"]+\", flags=re.UNICODE)\n",
    "    return emoji_pattern.sub(r'', str(text))"
   ]
  },
  {
   "cell_type": "code",
   "execution_count": 68,
   "id": "9d6196d5-3b38-4fda-819f-f1de5e1becbc",
   "metadata": {},
   "outputs": [],
   "source": [
    "df['text'] = df['text'].apply(remove_emojis)"
   ]
  },
  {
   "cell_type": "code",
   "execution_count": 69,
   "id": "5142999a-6d5f-463d-bc32-520701b03f35",
   "metadata": {},
   "outputs": [
    {
     "data": {
      "text/html": [
       "<div>\n",
       "<style scoped>\n",
       "    .dataframe tbody tr th:only-of-type {\n",
       "        vertical-align: middle;\n",
       "    }\n",
       "\n",
       "    .dataframe tbody tr th {\n",
       "        vertical-align: top;\n",
       "    }\n",
       "\n",
       "    .dataframe thead th {\n",
       "        text-align: right;\n",
       "    }\n",
       "</style>\n",
       "<table border=\"1\" class=\"dataframe\">\n",
       "  <thead>\n",
       "    <tr style=\"text-align: right;\">\n",
       "      <th></th>\n",
       "      <th>text</th>\n",
       "    </tr>\n",
       "  </thead>\n",
       "  <tbody>\n",
       "    <tr>\n",
       "      <th>0</th>\n",
       "      <td>Reply panna matiya</td>\n",
       "    </tr>\n",
       "    <tr>\n",
       "      <th>1</th>\n",
       "      <td>Aiii yemla ipde pandringa kiruku mendal payalu...</td>\n",
       "    </tr>\n",
       "    <tr>\n",
       "      <th>2</th>\n",
       "      <td>Slaying</td>\n",
       "    </tr>\n",
       "    <tr>\n",
       "      <th>3</th>\n",
       "      <td>🥵</td>\n",
       "    </tr>\n",
       "    <tr>\n",
       "      <th>4</th>\n",
       "      <td>you do make me so addicted</td>\n",
       "    </tr>\n",
       "  </tbody>\n",
       "</table>\n",
       "</div>"
      ],
      "text/plain": [
       "                                                text\n",
       "0                                 Reply panna matiya\n",
       "1  Aiii yemla ipde pandringa kiruku mendal payalu...\n",
       "2                                            Slaying\n",
       "3                                                  🥵\n",
       "4                        you do make me so addicted "
      ]
     },
     "execution_count": 69,
     "metadata": {},
     "output_type": "execute_result"
    }
   ],
   "source": [
    "df.head()"
   ]
  },
  {
   "cell_type": "code",
   "execution_count": 70,
   "id": "f5beded1-68c5-474b-8317-9e916fab7412",
   "metadata": {},
   "outputs": [],
   "source": [
    "df = df.dropna()"
   ]
  },
  {
   "cell_type": "code",
   "execution_count": 71,
   "id": "4bbdd915-9331-4e72-af9c-b9f6d81fefbd",
   "metadata": {},
   "outputs": [],
   "source": [
    "df = df[df['text'].notna()]         # Remove NaN values\n",
    "df = df[df['text'].str.strip() != \"\"]  # Remove rows with only whitespace\n",
    "df = df.reset_index(drop=True)     # Reset the index\n"
   ]
  },
  {
   "cell_type": "code",
   "execution_count": 72,
   "id": "75d200c4-57c7-4468-b3f3-7cf1d827664f",
   "metadata": {},
   "outputs": [
    {
     "data": {
      "text/html": [
       "<div>\n",
       "<style scoped>\n",
       "    .dataframe tbody tr th:only-of-type {\n",
       "        vertical-align: middle;\n",
       "    }\n",
       "\n",
       "    .dataframe tbody tr th {\n",
       "        vertical-align: top;\n",
       "    }\n",
       "\n",
       "    .dataframe thead th {\n",
       "        text-align: right;\n",
       "    }\n",
       "</style>\n",
       "<table border=\"1\" class=\"dataframe\">\n",
       "  <thead>\n",
       "    <tr style=\"text-align: right;\">\n",
       "      <th></th>\n",
       "      <th>text</th>\n",
       "    </tr>\n",
       "  </thead>\n",
       "  <tbody>\n",
       "    <tr>\n",
       "      <th>0</th>\n",
       "      <td>Reply panna matiya</td>\n",
       "    </tr>\n",
       "    <tr>\n",
       "      <th>1</th>\n",
       "      <td>Aiii yemla ipde pandringa kiruku mendal payalu...</td>\n",
       "    </tr>\n",
       "    <tr>\n",
       "      <th>2</th>\n",
       "      <td>Slaying</td>\n",
       "    </tr>\n",
       "    <tr>\n",
       "      <th>3</th>\n",
       "      <td>🥵</td>\n",
       "    </tr>\n",
       "    <tr>\n",
       "      <th>4</th>\n",
       "      <td>you do make me so addicted</td>\n",
       "    </tr>\n",
       "    <tr>\n",
       "      <th>5</th>\n",
       "      <td>as usual jaws down🥺🥴</td>\n",
       "    </tr>\n",
       "  </tbody>\n",
       "</table>\n",
       "</div>"
      ],
      "text/plain": [
       "                                                text\n",
       "0                                 Reply panna matiya\n",
       "1  Aiii yemla ipde pandringa kiruku mendal payalu...\n",
       "2                                            Slaying\n",
       "3                                                  🥵\n",
       "4                        you do make me so addicted \n",
       "5                               as usual jaws down🥺🥴"
      ]
     },
     "execution_count": 72,
     "metadata": {},
     "output_type": "execute_result"
    }
   ],
   "source": [
    "df"
   ]
  },
  {
   "cell_type": "code",
   "execution_count": 73,
   "id": "1e522787-655f-4827-a2fc-f7005db2c13b",
   "metadata": {},
   "outputs": [],
   "source": [
    "#using inbuilt Machine learning model to analyse the comments in the post "
   ]
  },
  {
   "cell_type": "code",
   "execution_count": 74,
   "id": "effce934-b6b0-4ba9-8ec8-f69f9e4287bf",
   "metadata": {},
   "outputs": [],
   "source": [
    "from vaderSentiment.vaderSentiment import SentimentIntensityAnalyzer"
   ]
  },
  {
   "cell_type": "code",
   "execution_count": 75,
   "id": "2c02ecc5-93ec-45d9-a0c1-29bde8716ed7",
   "metadata": {},
   "outputs": [
    {
     "name": "stdout",
     "output_type": "stream",
     "text": [
      "\n",
      "Overall sentiment of the dataset: Neutral\n"
     ]
    }
   ],
   "source": [
    "analyzer = SentimentIntensityAnalyzer()\n",
    "\n",
    "# Function to classify individual comments\n",
    "def get_sentiment(text):\n",
    "    score = analyzer.polarity_scores(text)['compound']\n",
    "    if score >= 0.05:\n",
    "        return 'Positive'\n",
    "    elif score <= -0.05:\n",
    "        return 'Negative'\n",
    "    else:\n",
    "        return 'Neutral'\n",
    "\n",
    "# Apply sentiment classification\n",
    "df['sentiment'] = df['text'].apply(get_sentiment)\n",
    "\n",
    "# Now decide the overall sentiment of the entire DataFrame\n",
    "positive_count = (df['sentiment'] == 'Positive').sum()\n",
    "negative_count = (df['sentiment'] == 'Negative').sum()\n",
    "neutral_count = (df['sentiment'] == 'Neutral').sum()\n",
    "\n",
    "# Determine overall sentiment\n",
    "if positive_count > max(negative_count, neutral_count):\n",
    "    overall_sentiment = 'Positive'\n",
    "elif negative_count > max(positive_count, neutral_count):\n",
    "    overall_sentiment = 'Negative'\n",
    "else:\n",
    "    overall_sentiment = 'Neutral'\n",
    "\n",
    "# Display results\n",
    "print(f\"\\nOverall sentiment of the dataset: {overall_sentiment}\")"
   ]
  },
  {
   "cell_type": "code",
   "execution_count": 77,
   "id": "8bbbcae9-4205-48bb-b341-bb63370891f9",
   "metadata": {},
   "outputs": [],
   "source": [
    "#profile information\n",
    "df = pd.read_json('non_influencer_profile.json')"
   ]
  },
  {
   "cell_type": "code",
   "execution_count": 78,
   "id": "ed4fc342-07d0-40b6-896f-cf945d042c05",
   "metadata": {},
   "outputs": [
    {
     "data": {
      "text/html": [
       "<div>\n",
       "<style scoped>\n",
       "    .dataframe tbody tr th:only-of-type {\n",
       "        vertical-align: middle;\n",
       "    }\n",
       "\n",
       "    .dataframe tbody tr th {\n",
       "        vertical-align: top;\n",
       "    }\n",
       "\n",
       "    .dataframe thead th {\n",
       "        text-align: right;\n",
       "    }\n",
       "</style>\n",
       "<table border=\"1\" class=\"dataframe\">\n",
       "  <thead>\n",
       "    <tr style=\"text-align: right;\">\n",
       "      <th></th>\n",
       "      <th>inputUrl</th>\n",
       "      <th>id</th>\n",
       "      <th>username</th>\n",
       "      <th>url</th>\n",
       "      <th>fullName</th>\n",
       "      <th>biography</th>\n",
       "      <th>externalUrls</th>\n",
       "      <th>followersCount</th>\n",
       "      <th>followsCount</th>\n",
       "      <th>hasChannel</th>\n",
       "      <th>...</th>\n",
       "      <th>private</th>\n",
       "      <th>verified</th>\n",
       "      <th>profilePicUrl</th>\n",
       "      <th>profilePicUrlHD</th>\n",
       "      <th>igtvVideoCount</th>\n",
       "      <th>relatedProfiles</th>\n",
       "      <th>latestIgtvVideos</th>\n",
       "      <th>postsCount</th>\n",
       "      <th>latestPosts</th>\n",
       "      <th>fbid</th>\n",
       "    </tr>\n",
       "  </thead>\n",
       "  <tbody>\n",
       "    <tr>\n",
       "      <th>0</th>\n",
       "      <td>https://www.instagram.com/shiny.sudhakar/</td>\n",
       "      <td>33470389403</td>\n",
       "      <td>shiny.sudhakar</td>\n",
       "      <td>https://www.instagram.com/shiny.sudhakar</td>\n",
       "      <td>🐽</td>\n",
       "      <td>🍕\\nPriv: @shinzzzzz._</td>\n",
       "      <td>[]</td>\n",
       "      <td>1079</td>\n",
       "      <td>96</td>\n",
       "      <td>False</td>\n",
       "      <td>...</td>\n",
       "      <td>False</td>\n",
       "      <td>False</td>\n",
       "      <td>https://scontent-lhr8-2.cdninstagram.com/v/t51...</td>\n",
       "      <td>https://scontent-lhr8-2.cdninstagram.com/v/t51...</td>\n",
       "      <td>0</td>\n",
       "      <td>[]</td>\n",
       "      <td>[]</td>\n",
       "      <td>56</td>\n",
       "      <td>[{'id': '3472858953103062581', 'type': 'Sideca...</td>\n",
       "      <td>17841433522103798</td>\n",
       "    </tr>\n",
       "  </tbody>\n",
       "</table>\n",
       "<p>1 rows × 24 columns</p>\n",
       "</div>"
      ],
      "text/plain": [
       "                                    inputUrl           id        username  \\\n",
       "0  https://www.instagram.com/shiny.sudhakar/  33470389403  shiny.sudhakar   \n",
       "\n",
       "                                        url fullName              biography  \\\n",
       "0  https://www.instagram.com/shiny.sudhakar        🐽  🍕\\nPriv: @shinzzzzz._   \n",
       "\n",
       "  externalUrls  followersCount  followsCount  hasChannel  ...  private  \\\n",
       "0           []            1079            96       False  ...    False   \n",
       "\n",
       "   verified                                      profilePicUrl  \\\n",
       "0     False  https://scontent-lhr8-2.cdninstagram.com/v/t51...   \n",
       "\n",
       "                                     profilePicUrlHD  igtvVideoCount  \\\n",
       "0  https://scontent-lhr8-2.cdninstagram.com/v/t51...               0   \n",
       "\n",
       "   relatedProfiles latestIgtvVideos postsCount  \\\n",
       "0               []               []         56   \n",
       "\n",
       "                                         latestPosts               fbid  \n",
       "0  [{'id': '3472858953103062581', 'type': 'Sideca...  17841433522103798  \n",
       "\n",
       "[1 rows x 24 columns]"
      ]
     },
     "execution_count": 78,
     "metadata": {},
     "output_type": "execute_result"
    }
   ],
   "source": [
    "df.head()"
   ]
  },
  {
   "cell_type": "code",
   "execution_count": 79,
   "id": "11cbae89-f107-43e1-9c3b-8a079186411b",
   "metadata": {},
   "outputs": [],
   "source": [
    "profile_details = result_df = df[['followersCount', 'postsCount']]"
   ]
  },
  {
   "cell_type": "code",
   "execution_count": 80,
   "id": "72a96d63-0c56-4535-b8da-329df6ac2e42",
   "metadata": {},
   "outputs": [
    {
     "data": {
      "text/html": [
       "<div>\n",
       "<style scoped>\n",
       "    .dataframe tbody tr th:only-of-type {\n",
       "        vertical-align: middle;\n",
       "    }\n",
       "\n",
       "    .dataframe tbody tr th {\n",
       "        vertical-align: top;\n",
       "    }\n",
       "\n",
       "    .dataframe thead th {\n",
       "        text-align: right;\n",
       "    }\n",
       "</style>\n",
       "<table border=\"1\" class=\"dataframe\">\n",
       "  <thead>\n",
       "    <tr style=\"text-align: right;\">\n",
       "      <th></th>\n",
       "      <th>followersCount</th>\n",
       "      <th>postsCount</th>\n",
       "    </tr>\n",
       "  </thead>\n",
       "  <tbody>\n",
       "    <tr>\n",
       "      <th>0</th>\n",
       "      <td>1079</td>\n",
       "      <td>56</td>\n",
       "    </tr>\n",
       "  </tbody>\n",
       "</table>\n",
       "</div>"
      ],
      "text/plain": [
       "   followersCount  postsCount\n",
       "0            1079          56"
      ]
     },
     "execution_count": 80,
     "metadata": {},
     "output_type": "execute_result"
    }
   ],
   "source": [
    "profile_details"
   ]
  },
  {
   "cell_type": "code",
   "execution_count": 81,
   "id": "14fcf4b1-bee1-4f63-8ae4-15990ed83ea3",
   "metadata": {},
   "outputs": [],
   "source": [
    "def is_social_influencer(overall_sentiment, followers, posts):\n",
    "    return (\n",
    "        overall_sentiment == 'Positive' and\n",
    "        followers >= 10000 and\n",
    "        posts >= 50\n",
    "    )"
   ]
  },
  {
   "cell_type": "code",
   "execution_count": 82,
   "id": "a35ae772-9bae-4c00-b60d-ea58079bd8ea",
   "metadata": {},
   "outputs": [],
   "source": [
    "result = is_social_influencer(\n",
    "    overall_sentiment,\n",
    "    profile_details['followersCount'].iloc[0],\n",
    "    profile_details['postsCount'].iloc[0]\n",
    ")\n"
   ]
  },
  {
   "cell_type": "code",
   "execution_count": 83,
   "id": "2f627e4b-21ea-4ee7-afc0-f7259b1a96e9",
   "metadata": {},
   "outputs": [
    {
     "name": "stdout",
     "output_type": "stream",
     "text": [
      "False\n"
     ]
    }
   ],
   "source": [
    "print(result)"
   ]
  }
 ],
 "metadata": {
  "kernelspec": {
   "display_name": "Python 3 (ipykernel)",
   "language": "python",
   "name": "python3"
  },
  "language_info": {
   "codemirror_mode": {
    "name": "ipython",
    "version": 3
   },
   "file_extension": ".py",
   "mimetype": "text/x-python",
   "name": "python",
   "nbconvert_exporter": "python",
   "pygments_lexer": "ipython3",
   "version": "3.13.3"
  }
 },
 "nbformat": 4,
 "nbformat_minor": 5
}
